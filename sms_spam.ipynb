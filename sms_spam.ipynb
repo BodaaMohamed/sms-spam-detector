{
 "cells": [
  {
   "cell_type": "markdown",
   "metadata": {},
   "source": [
    "# SMS Spam Detection System\n",
    "\n",
    "## Problem Definition\n",
    "\n",
    "The goal of this project is to develop a machine learning system that can accurately classify SMS messages as either spam or non-spam (ham). This system will help:\n",
    "- Telecommunications companies filter out unwanted communications\n",
    "- Messaging platforms protect users from potential scams\n",
    "- Organizations maintain a clean and secure messaging environment"
   ]
  },
  {
   "cell_type": "markdown",
   "metadata": {},
   "source": [
    "## 1. Data Collection and Setup"
   ]
  },
  {
   "cell_type": "code",
   "execution_count": 76,
   "metadata": {},
   "outputs": [
    {
     "name": "stderr",
     "output_type": "stream",
     "text": [
      "[nltk_data] Downloading package stopwords to\n",
      "[nltk_data]     C:\\Users\\abdo\\AppData\\Roaming\\nltk_data...\n",
      "[nltk_data]   Package stopwords is already up-to-date!\n"
     ]
    },
    {
     "data": {
      "text/plain": [
       "True"
      ]
     },
     "execution_count": 76,
     "metadata": {},
     "output_type": "execute_result"
    }
   ],
   "source": [
    "# Import necessary libraries\n",
    "import pandas as pd\n",
    "import numpy as np\n",
    "from sklearn.model_selection import train_test_split\n",
    "from sklearn.feature_extraction.text import TfidfVectorizer\n",
    "from sklearn.naive_bayes import MultinomialNB\n",
    "from sklearn.svm import SVC\n",
    "from sklearn.ensemble import RandomForestClassifier\n",
    "from sklearn.metrics import accuracy_score, precision_score, recall_score, f1_score, confusion_matrix\n",
    "import matplotlib.pyplot as plt\n",
    "import seaborn as sns\n",
    "import re\n",
    "from nltk.corpus import stopwords\n",
    "from nltk.stem import PorterStemmer\n",
    "from sklearn.pipeline import Pipeline\n",
    "from sklearn.model_selection import GridSearchCV\n",
    "import joblib\n",
    "from wordcloud import WordCloud\n",
    "import pickle\n",
    "import nltk\n",
    "\n",
    "# Download NLTK data if not already downloaded\n",
    "nltk.download('stopwords')"
   ]
  },
  {
   "cell_type": "markdown",
   "metadata": {},
   "source": [
    "## 2. Data Preprocessing"
   ]
  },
  {
   "cell_type": "code",
   "execution_count": 77,
   "metadata": {},
   "outputs": [],
   "source": [
    "# Load and preprocess the dataset\n",
    "df = pd.read_csv('spam.csv', encoding=\"ISO-8859-1\")\n",
    "df = df[['v1', 'v2']]\n",
    "df.columns = ['target', 'text']\n",
    "df['target'] = df['target'].map({'ham': 0, 'spam': 1})\n",
    "\n",
    "# Text preprocessing function\n",
    "def preprocess_text(text):\n",
    "    \"\"\"\n",
    "    Preprocess text data by:\n",
    "    1. Converting to lowercase\n",
    "    2. Removing special characters\n",
    "    3. Removing extra spaces\n",
    "    4. Removing stopwords\n",
    "    5. Stemming words\n",
    "    \"\"\"\n",
    "    text = text.lower()\n",
    "    text = re.sub('[^a-zA-Z]', ' ', text)\n",
    "    text = re.sub('\\s+', ' ', text)\n",
    "    stop_words = set(stopwords.words('english'))\n",
    "    words = text.split()\n",
    "    words = [word for word in words if word not in stop_words]\n",
    "    ps = PorterStemmer()\n",
    "    words = [ps.stem(word) for word in words]\n",
    "    return ' '.join(words)\n",
    "\n",
    "# Apply preprocessing\n",
    "df['processed_text'] = df['text'].apply(preprocess_text)"
   ]
  },
  {
   "cell_type": "markdown",
   "metadata": {},
   "source": [
    "## 3. Data Visualization"
   ]
  },
  {
   "cell_type": "code",
   "execution_count": 78,
   "metadata": {},
   "outputs": [
    {
     "name": "stderr",
     "output_type": "stream",
     "text": [
      "C:\\Users\\abdo\\AppData\\Local\\Temp\\ipykernel_2076\\1248956946.py:8: UserWarning: FigureCanvasAgg is non-interactive, and thus cannot be shown\n",
      "  plt.show()\n"
     ]
    }
   ],
   "source": [
    "def create_word_cloud(text, title):\n",
    "    \"\"\"Create word clouds for visual analysis\"\"\"\n",
    "    wordcloud = WordCloud(width=800, height=400, background_color='white').generate(text)\n",
    "    plt.figure(figsize=(10, 6))\n",
    "    plt.imshow(wordcloud, interpolation='bilinear')\n",
    "    plt.title(title)\n",
    "    plt.axis('off')\n",
    "    plt.show()\n",
    "\n",
    "# Create word clouds for spam and ham messages\n",
    "spam_text = ' '.join(df[df['target'] == 1]['processed_text'])\n",
    "ham_text = ' '.join(df[df['target'] == 0]['processed_text'])\n",
    "\n",
    "create_word_cloud(spam_text, 'Most Common Words in Spam Messages')\n",
    "create_word_cloud(ham_text, 'Most Common Words in Ham Messages')"
   ]
  },
  {
   "cell_type": "markdown",
   "metadata": {},
   "source": [
    "## 4. Model Selection and Training"
   ]
  },
  {
   "cell_type": "code",
   "execution_count": 79,
   "metadata": {},
   "outputs": [
    {
     "name": "stdout",
     "output_type": "stream",
     "text": [
      "\n",
      "Training Naive Bayes...\n",
      "Best Naive Bayes score: 0.9722\n",
      "Best Naive Bayes parameters: {'tfidf__max_features': 1000, 'tfidf__ngram_range': (1, 2)}\n",
      "\n",
      "Training SVM...\n",
      "Best SVM score: 0.9821\n",
      "Best SVM parameters: {'clf__C': 10, 'clf__kernel': 'rbf', 'tfidf__max_features': 1000, 'tfidf__ngram_range': (1, 1)}\n",
      "\n",
      "Training Random Forest...\n",
      "Best Random Forest score: 0.9794\n",
      "Best Random Forest parameters: {'clf__max_depth': None, 'clf__n_estimators': 200, 'tfidf__max_features': 1000, 'tfidf__ngram_range': (1, 1)}\n"
     ]
    }
   ],
   "source": [
    "# Split data\n",
    "X = df['processed_text']\n",
    "y = df['target']\n",
    "X_train, X_test, y_train, y_test = train_test_split(X, y, test_size=0.2, random_state=42)\n",
    "\n",
    "# Define models and parameters\n",
    "models = {\n",
    "    'Naive Bayes': {\n",
    "        'model': Pipeline([\n",
    "            ('tfidf', TfidfVectorizer()),\n",
    "            ('clf', MultinomialNB())\n",
    "        ]),\n",
    "        'params': {\n",
    "            'tfidf__max_features': [1000, 2000, 5000],\n",
    "            'tfidf__ngram_range': [(1,1), (1,2)]\n",
    "        }\n",
    "    },\n",
    "    'SVM': {\n",
    "        'model': Pipeline([\n",
    "            ('tfidf', TfidfVectorizer()),\n",
    "            ('clf', SVC())\n",
    "        ]),\n",
    "        'params': {\n",
    "            'tfidf__max_features': [1000, 2000],\n",
    "            'tfidf__ngram_range': [(1,1), (1,2)],\n",
    "            'clf__C': [0.1, 1, 10],\n",
    "            'clf__kernel': ['linear', 'rbf']\n",
    "        }\n",
    "    },\n",
    "    'Random Forest': {\n",
    "        'model': Pipeline([\n",
    "            ('tfidf', TfidfVectorizer()),\n",
    "            ('clf', RandomForestClassifier())\n",
    "        ]),\n",
    "        'params': {\n",
    "            'tfidf__max_features': [1000, 2000],\n",
    "            'tfidf__ngram_range': [(1,1), (1,2)],\n",
    "            'clf__n_estimators': [50, 100, 200],\n",
    "            'clf__max_depth': [None, 10, 20]\n",
    "        }\n",
    "    }\n",
    "}\n",
    "\n",
    "# Train and evaluate models\n",
    "best_models = {}\n",
    "for name, config in models.items():\n",
    "    print(f'\\nTraining {name}...')\n",
    "    \n",
    "    # Grid search for best parameters\n",
    "    grid_search = GridSearchCV(\n",
    "        config['model'],\n",
    "        config['params'],\n",
    "        cv=5,\n",
    "        scoring='accuracy',\n",
    "        n_jobs=-1\n",
    "    )\n",
    "    \n",
    "    grid_search.fit(X_train, y_train)\n",
    "    \n",
    "    # Get best model\n",
    "    best_model = grid_search.best_estimator_\n",
    "    \n",
    "    # Evaluate on test set\n",
    "    y_pred = best_model.predict(X_test)\n",
    "    \n",
    "    # Calculate metrics\n",
    "    accuracy = accuracy_score(y_test, y_pred)\n",
    "    precision = precision_score(y_test, y_pred)\n",
    "    recall = recall_score(y_test, y_pred)\n",
    "    f1 = f1_score(y_test, y_pred)\n",
    "    \n",
    "    print(f'Best {name} score: {accuracy:.4f}')\n",
    "    print(f'Best {name} parameters: {grid_search.best_params_}')\n",
    "    \n",
    "    # Store best model and metrics\n",
    "    best_models[name] = {\n",
    "        'model': best_model,\n",
    "        'metrics': {\n",
    "            'accuracy': accuracy,\n",
    "            'precision': precision,\n",
    "            'recall': recall,\n",
    "            'f1': f1\n",
    "        }\n",
    "    }"
   ]
  },
  {
   "cell_type": "markdown",
   "metadata": {},
   "source": [
    "## 5. Model Evaluation"
   ]
  },
  {
   "cell_type": "code",
   "execution_count": 80,
   "metadata": {},
   "outputs": [
    {
     "name": "stdout",
     "output_type": "stream",
     "text": [
      "\n",
      "Model Performance Comparison:\n",
      "\n",
      "Naive Bayes:\n",
      "Accuracy:  0.9722\n",
      "Precision:  0.9760\n",
      "Recall:  0.8133\n",
      "F1 Score:  0.8873\n"
     ]
    },
    {
     "name": "stderr",
     "output_type": "stream",
     "text": [
      "C:\\Users\\abdo\\AppData\\Local\\Temp\\ipykernel_2076\\1125395199.py:11: UserWarning: FigureCanvasAgg is non-interactive, and thus cannot be shown\n",
      "  plt.show()\n"
     ]
    },
    {
     "name": "stdout",
     "output_type": "stream",
     "text": [
      "\n",
      "SVM:\n",
      "Accuracy:  0.9821\n",
      "Precision:  0.9924\n",
      "Recall:  0.8733\n",
      "F1 Score:  0.9291\n"
     ]
    },
    {
     "name": "stderr",
     "output_type": "stream",
     "text": [
      "C:\\Users\\abdo\\AppData\\Local\\Temp\\ipykernel_2076\\1125395199.py:11: UserWarning: FigureCanvasAgg is non-interactive, and thus cannot be shown\n",
      "  plt.show()\n"
     ]
    },
    {
     "name": "stdout",
     "output_type": "stream",
     "text": [
      "\n",
      "Random Forest:\n",
      "Accuracy:  0.9794\n",
      "Precision:  0.9847\n",
      "Recall:  0.8600\n",
      "F1 Score:  0.9181\n"
     ]
    },
    {
     "name": "stderr",
     "output_type": "stream",
     "text": [
      "C:\\Users\\abdo\\AppData\\Local\\Temp\\ipykernel_2076\\1125395199.py:11: UserWarning: FigureCanvasAgg is non-interactive, and thus cannot be shown\n",
      "  plt.show()\n"
     ]
    }
   ],
   "source": [
    "def plot_confusion_matrix(y_true, y_pred, title):\n",
    "    \"\"\"Plot confusion matrix for model evaluation\"\"\"\n",
    "    cm = confusion_matrix(y_true, y_pred)\n",
    "    plt.figure(figsize=(8, 6))\n",
    "    sns.heatmap(cm, annot=True, fmt='d', cmap='Blues',\n",
    "               xticklabels=['Ham', 'Spam'],\n",
    "               yticklabels=['Ham', 'Spam'])\n",
    "    plt.title(title)\n",
    "    plt.xlabel('Predicted')\n",
    "    plt.ylabel('Actual')\n",
    "    plt.show()\n",
    "\n",
    "# Compare model performance\n",
    "print('\\nModel Performance Comparison:')\n",
    "for name, results in best_models.items():\n",
    "    print(f'\\n{name}:')\n",
    "    metrics = results['metrics']\n",
    "    print(f'Accuracy: {metrics[\"accuracy\"]: .4f}')\n",
    "    print(f'Precision: {metrics[\"precision\"]: .4f}')\n",
    "    print(f'Recall: {metrics[\"recall\"]: .4f}')\n",
    "    print(f'F1 Score: {metrics[\"f1\"]: .4f}')\n",
    "    \n",
    "    # Plot confusion matrix\n",
    "    y_pred = results['model'].predict(X_test)\n",
    "    plot_confusion_matrix(y_test, y_pred, f'{name} Confusion Matrix')"
   ]
  },
  {
   "cell_type": "markdown",
   "metadata": {},
   "source": [
    "## 6. Model Deployment"
   ]
  },
  {
   "cell_type": "code",
   "execution_count": 81,
   "metadata": {},
   "outputs": [
    {
     "name": "stdout",
     "output_type": "stream",
     "text": [
      "<class 'sklearn.feature_extraction.text.TfidfVectorizer'>\n",
      "\n",
      "Testing deployed model:\n",
      "\n",
      "Message: Free entry in 2 a wkly comp to win FA Cup final tkts 21st May 2005.\n",
      "Prediction: Not Spam\n",
      "\n",
      "Message: Hey, how are you? I'm doing great!\n",
      "Prediction: Not Spam\n",
      "\n",
      "Message: WINNER!! As a valued network customer you have been selected to receivea £900 prize reward!\n",
      "Prediction: Spam\n"
     ]
    }
   ],
   "source": [
    "def save_model(model, filename):\n",
    "    \"\"\"Save model and vectorizer for deployment\"\"\"\n",
    "    with open(filename, 'wb') as file:\n",
    "        pickle.dump(model, file)\n",
    "\n",
    "def predict_spam(message, model):\n",
    "    \"\"\"\n",
    "    Predict if a message is spam or not\n",
    "    \n",
    "    Args:\n",
    "        message (str): Input message to classify\n",
    "        model: Trained machine learning model\n",
    "        \n",
    "    Returns:\n",
    "        str: 'Spam' or 'Not Spam'\n",
    "    \"\"\"\n",
    "    # Preprocess the message\n",
    "    processed_text = preprocess_text(message)\n",
    "    \n",
    "    # Make prediction\n",
    "    prediction = model.predict([processed_text])[0]\n",
    "    \n",
    "    return 'Spam' if prediction == 1 else 'Not Spam'\n",
    "\n",
    "# Before saving the model, verify the vectorizer type\n",
    "print(type(best_model.named_steps['tfidf']))  # Should print: <class 'sklearn.feature_extraction.text.TfidfVectorizer'>\n",
    "\n",
    "# Save the best performing model\n",
    "best_model_name = max(best_models, key=lambda k: best_models[k]['metrics']['f1'])\n",
    "best_model = best_models[best_model_name]['model']\n",
    "\n",
    "# Save model\n",
    "with open('spam_detector_model.pkl', 'wb') as file:\n",
    "    pickle.dump(best_model, file)\n",
    "    \n",
    "# Save vectorizer\n",
    "with open('tfidf_vectorizer.pkl', 'wb') as file:\n",
    "    pickle.dump(best_model.named_steps['tfidf'], file)\n",
    "# Test the deployed model\n",
    "test_messages = [\n",
    "    \"Free entry in 2 a wkly comp to win FA Cup final tkts 21st May 2005.\",\n",
    "    \"Hey, how are you? I'm doing great!\",\n",
    "    \"WINNER!! As a valued network customer you have been selected to receivea £900 prize reward!\"\n",
    "]\n",
    "\n",
    "print('\\nTesting deployed model:')\n",
    "for message in test_messages:\n",
    "    print(f'\\nMessage: {message}')\n",
    "    print(f'Prediction: {predict_spam(message, best_model)}')"
   ]
  },
  {
   "cell_type": "code",
   "execution_count": 82,
   "id": "0596c906",
   "metadata": {},
   "outputs": [
    {
     "name": "stderr",
     "output_type": "stream",
     "text": [
      "2025-04-04 05:05:41.356 Thread 'MainThread': missing ScriptRunContext! This warning can be ignored when running in bare mode.\n",
      "2025-04-04 05:05:41.365 Thread 'MainThread': missing ScriptRunContext! This warning can be ignored when running in bare mode.\n",
      "2025-04-04 05:05:41.367 Thread 'MainThread': missing ScriptRunContext! This warning can be ignored when running in bare mode.\n",
      "2025-04-04 05:05:41.369 Thread 'MainThread': missing ScriptRunContext! This warning can be ignored when running in bare mode.\n",
      "2025-04-04 05:05:41.371 Thread 'MainThread': missing ScriptRunContext! This warning can be ignored when running in bare mode.\n",
      "2025-04-04 05:05:41.378 Thread 'MainThread': missing ScriptRunContext! This warning can be ignored when running in bare mode.\n",
      "2025-04-04 05:05:41.382 Thread 'MainThread': missing ScriptRunContext! This warning can be ignored when running in bare mode.\n",
      "2025-04-04 05:05:41.384 Thread 'MainThread': missing ScriptRunContext! This warning can be ignored when running in bare mode.\n",
      "2025-04-04 05:05:41.385 Thread 'MainThread': missing ScriptRunContext! This warning can be ignored when running in bare mode.\n",
      "2025-04-04 05:05:41.387 Thread 'MainThread': missing ScriptRunContext! This warning can be ignored when running in bare mode.\n",
      "2025-04-04 05:05:41.388 Thread 'MainThread': missing ScriptRunContext! This warning can be ignored when running in bare mode.\n",
      "2025-04-04 05:05:41.390 Thread 'MainThread': missing ScriptRunContext! This warning can be ignored when running in bare mode.\n",
      "2025-04-04 05:05:41.400 Thread 'MainThread': missing ScriptRunContext! This warning can be ignored when running in bare mode.\n"
     ]
    }
   ],
   "source": [
    "## 6. Model Deployment using Streamlit\n",
    "\n",
    "import streamlit as st\n",
    "import pickle\n",
    "\n",
    "# Load the saved model\n",
    "model = pickle.load(open(\"spam_detector_model.pkl\", 'rb'))\n",
    "\n",
    "# Streamlit App\n",
    "st.title(\"SMS Spam Detector\")\n",
    "\n",
    "# User Input\n",
    "user_input = st.text_area(\"Enter an SMS message:\", \"\")\n",
    "\n",
    "if st.button(\"Predict\"):\n",
    "    if user_input.strip():\n",
    "        # Preprocess input\n",
    "        processed_text = preprocess_text(user_input)\n",
    "        # Make prediction\n",
    "        prediction = model.predict([processed_text])[0]\n",
    "        result = \"Spam\" if prediction == 1 else \"Not Spam\"\n",
    "        \n",
    "        # Display result\n",
    "        st.write(f\"### Prediction: {result}\")\n",
    "    else:\n",
    "        st.warning(\"Please enter a message.\")"
   ]
  }
 ],
 "metadata": {
  "kernelspec": {
   "display_name": "Python 3",
   "language": "python",
   "name": "python3"
  },
  "language_info": {
   "codemirror_mode": {
    "name": "ipython",
    "version": 3
   },
   "file_extension": ".py",
   "mimetype": "text/x-python",
   "name": "python",
   "nbconvert_exporter": "python",
   "pygments_lexer": "ipython3",
   "version": "3.10.9"
  }
 },
 "nbformat": 4,
 "nbformat_minor": 4
}
